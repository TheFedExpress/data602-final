{
 "cells": [
  {
   "cell_type": "markdown",
   "metadata": {},
   "source": [
    "## Bitcoin Option Price Prediction\n",
    "\n",
    "The Deribit exchange is the only major exchange with cryto options available.  Currently, only Bitcoin options are available and the trading volume is relatively small.  As such, the market seems primed to be exploited with a simple strategy.  The Black Scholes model became the gold standard for fair option pricing several decades ago.  A price prediction model built around the Black Scholes framework should be able to defeat this market."
   ]
  },
  {
   "cell_type": "markdown",
   "metadata": {},
   "source": [
    "### Initialization"
   ]
  },
  {
   "cell_type": "code",
   "execution_count": 59,
   "metadata": {},
   "outputs": [],
   "source": [
    "import matplotlib.pyplot as plt\n",
    "import numpy as np\n",
    "import sklearn.ensemble as ske\n",
    "from sklearn.model_selection import GroupShuffleSplit\n",
    "from sklearn.linear_model import LogisticRegression\n",
    "from matplotlib import pyplot as plt\n",
    "from sklearn.metrics import auc, roc_curve, f1_score, make_scorer, r2_score, mean_squared_error\n",
    "from sklearn.model_selection import GridSearchCV,  cross_val_score, KFold\n",
    "import warnings\n",
    "import seaborn as sns\n",
    "import pandas as pd\n",
    "\n",
    "def get_train_data():\n",
    "    from pymongo import MongoClient\n",
    "    import pandas as pd\n",
    "\n",
    "    connection = MongoClient('ds149279.mlab.com', 49279)\n",
    "    db = connection['data602final']\n",
    "    db.authenticate('me', 'mypass')\n",
    "    \n",
    "    df = pd.DataFrame([item for item in db.btc_options.find({})])\n",
    "    sds = pd.DataFrame([item for item in db.sds.find({})])\n",
    "    return df, sds\n",
    "df, sds = get_train_data()"
   ]
  },
  {
   "cell_type": "markdown",
   "metadata": {},
   "source": [
    "### Data Munging\n",
    "\n",
    "We load two key functions, one that returns how far out of the money the option is, and one that returns the predicted Black Scholes price.  One of the key violations of Black Scholes is the volatility smile.  If one were to plot strike price against implied volatility, an unmodified Black Scholes model would assume a straight line.  Implied volatility would be constant.  However in practice it is either downward sloping or curved, hence the name."
   ]
  },
  {
   "cell_type": "code",
   "execution_count": 60,
   "metadata": {},
   "outputs": [],
   "source": [
    "def strike_dist(df):\n",
    "    if df.option_type == 'C':\n",
    "        return (df.indexPrice - df.strike)/df.strike\n",
    "    else:\n",
    "        return (df.strike - df.indexPrice)/df.strike\n",
    "    \n",
    "def black_scholes(df, option_type):\n",
    "    from scipy.stats import norm\n",
    "    import numpy as np\n",
    "    \n",
    "    current = df.indexPrice.values\n",
    "    rf = df['rf'].values\n",
    "    t = (df.expiration_date.values - df.timeStamp.values).astype('timedelta64[s]').astype(float)/(365*86400)\n",
    "    top_d1 = np.log(current/df.strike.values) + (rf + ((df.sd.values)**2)/2)*t\n",
    "    bottom_d1 = df.sd.values*np.sqrt(t)\n",
    "    d1 = top_d1/bottom_d1\n",
    "\n",
    "    d2 = d1 - df.sd.values*np.sqrt(t)\n",
    "    if option_type == 'C':\n",
    "        return current*norm.cdf(d1) - df.strike.values*np.exp(-rf*t)*norm.cdf(d2)\n",
    "    else:\n",
    "        return df.strike.values*np.exp(-rf*t)*norm.cdf(-d2) - current*norm.cdf(-d1)"
   ]
  },
  {
   "cell_type": "markdown",
   "metadata": {},
   "source": [
    "We must also created the other features, cumulative volume, and option type.  The response variable is an adjusted option price two trades in the future.  Two trades was chosen to allow the price some time to correct to fair value if it was mispriced.  The actual response variable is: (current price - future price) - (current BS predicted price - future BS predicted price).  This net change will largely keep the response variable independent of changes in the price of the underlying, Bitcoin."
   ]
  },
  {
   "cell_type": "code",
   "execution_count": 61,
   "metadata": {},
   "outputs": [],
   "source": [
    "def prep_data(sds, df):\n",
    "    import pandas as pd\n",
    "    from datetime import datetime, timedelta\n",
    "    from quandl import get\n",
    "\n",
    "    \n",
    "\n",
    "    warnings.filterwarnings('ignore')\n",
    "    get_date = lambda x: datetime.strptime(x, '%d%b%y')\n",
    "    \n",
    "    get_cols = lambda x: pd.Series([item for item in x.split('-')])\n",
    "    cols = df['instrument'].apply(get_cols)\n",
    "    cols.columns = ['uderlying', 'expiration_date', 'strike', 'option_type']\n",
    "    df = pd.concat([df, cols], axis = 1)\n",
    "    df.loc[:, 'expiration_date'] = df['expiration_date'].map(get_date)\n",
    "    add_time = lambda x: timedelta(days = 1) - timedelta(seconds = 1) + x #make exp date end of day\n",
    "    df['expiration_date'] = df['expiration_date'].map(add_time)\n",
    "    \n",
    "    df = df.dropna()\n",
    "    df['strike'] = df['strike'].map(int)\n",
    "    df['timeStamp'] = df['timeStamp'].map(lambda x: datetime.fromtimestamp(x/1000))\n",
    "    df['time_left'] = (df['expiration_date'] - \n",
    "      df['timeStamp']).values.astype('timedelta64[s]').astype(float)/(365*86400)\n",
    "    df['date'] = df['timeStamp'].map(lambda x: x.date())\n",
    "    sds['date'] = sds['date'].map(lambda x: x.date())\n",
    "    rf = get('FRED/DTB6', start_date = '2016-01-01')/100\n",
    "    rf.loc[:, 'date'] = rf.index.values\n",
    "    rf['date'] = rf['date'].map(lambda x: x.date())\n",
    "    rf.rename(columns = {'Value': 'rf'}, inplace = True)\n",
    "    \n",
    "    \n",
    "    df = pd.merge(df, sds, on = ['date'])\n",
    "    df = pd.merge(df, rf, on = ['date'])\n",
    "    \n",
    "    \n",
    "    calls = df.loc[df.option_type == 'C']\n",
    "    puts = df.loc[df.option_type == 'P']\n",
    "    \n",
    "        \n",
    "    call_prices = black_scholes(calls, 'C')\n",
    "    put_prices = black_scholes(puts, 'P')\n",
    "    calls.loc[:, 'bs_price'] = call_prices\n",
    "    puts.loc[:, 'bs_price'] = put_prices\n",
    "    \n",
    "    df2 = pd.concat([calls, puts], axis = 0)\n",
    "    \n",
    "    \n",
    "        \n",
    "    df2['strike_dist'] = df2.apply(strike_dist, axis = 1)\n",
    "    \n",
    "    df2['price'] = df2.apply(lambda x: x.price * x.indexPrice, axis = 1)#option price converted to USD\n",
    "    df2['price_delta'] = df2.apply(lambda x: \n",
    "        min(max((x.bs_price - x.price)/x.price, -2), 2), axis = 1)#difference between option price and\n",
    "    #price predicted by BS formula\n",
    "    \n",
    "    df2.sort_values(['instrument', 'tradeSeq'], inplace = True)\n",
    "    grouped = df2.groupby(['instrument'])['quantity'].cumsum()\n",
    "    df2.loc[:, 'cum_volume'] = grouped\n",
    "    df2.sort_values(['instrument', 'tradeSeq'], ascending  = False, inplace = True)\n",
    "    \n",
    "    #this operation should be a function for style\n",
    "    #get the price 2 trades in the future.  We can play around with this number\n",
    "    df2.loc[:,'fut_option_price'] = df2.groupby(['instrument']).price.shift(2)\n",
    "    df2.loc[:,'fut_und_price'] = df2.groupby(['instrument']).indexPrice.shift(2)\n",
    "    df2.loc[:,'fut_bs_price'] = df2.groupby(['instrument']).bs_price.shift(2)\n",
    "    df2['price_change'] = (df2.fut_option_price - df2.price)/df2.price\n",
    "    df2['index_change'] = df2.fut_und_price - df2.indexPrice\n",
    "    df2['net_change'] = df2.apply(\n",
    "            lambda x: min(max(x.price_change - (x.fut_bs_price - x.bs_price)/x.bs_price, -2), 2), axis = 1)\n",
    "    \n",
    "    #I'm still not 100% sure net_change is the value we want to predict.  Here's my thinking:\n",
    "    #The idea is that we want measure of price change\n",
    "    #that is independent of price changes in the underlying.  With net change, if the underlying didn't change,\n",
    "    #future_bs_price - bs_price should be zero, so we're left with the price change.  For a call, if the underlying\n",
    "    #goes up, the fut_bs_price - bs_price will be positive, and should offset the part of the price change due to\n",
    "    #a change in price in the underlying.  What you're left with is any change in price due to the option valuation\n",
    "    #getting closer to a fair value\n",
    "    \n",
    "    opt_map = {'C': 1, 'P': 2}\n",
    "    \n",
    "    \n",
    "    df2['option_type'] = df2['option_type'].map(lambda x: opt_map[x])\n",
    "    X = df2.loc[df2['fut_option_price'].notna(), ['cum_volume', 'strike_dist', 'price_delta', 'time_left', 'option_type']]\n",
    "    \n",
    "    Y = df2.loc[df2['fut_option_price'].notna(), ['net_change']]\n",
    "    return (X, Y, df2)\n",
    "X, Y, df2 = prep_data(sds, df)\n",
    "actuals = df2.loc[df2['fut_option_price'].notna(), ['price_change']].values\n",
    "groups = df2.loc[df2['fut_option_price'].notna(), ['instrument']]"
   ]
  },
  {
   "cell_type": "code",
   "execution_count": 62,
   "metadata": {},
   "outputs": [
    {
     "data": {
      "text/html": [
       "<div>\n",
       "<style scoped>\n",
       "    .dataframe tbody tr th:only-of-type {\n",
       "        vertical-align: middle;\n",
       "    }\n",
       "\n",
       "    .dataframe tbody tr th {\n",
       "        vertical-align: top;\n",
       "    }\n",
       "\n",
       "    .dataframe thead th {\n",
       "        text-align: right;\n",
       "    }\n",
       "</style>\n",
       "<table border=\"1\" class=\"dataframe\">\n",
       "  <thead>\n",
       "    <tr style=\"text-align: right;\">\n",
       "      <th></th>\n",
       "      <th>_id_x</th>\n",
       "      <th>direction</th>\n",
       "      <th>indexPrice</th>\n",
       "      <th>instrument</th>\n",
       "      <th>iv</th>\n",
       "      <th>price</th>\n",
       "      <th>quantity</th>\n",
       "      <th>tickDirection</th>\n",
       "      <th>timeStamp</th>\n",
       "      <th>tradeId</th>\n",
       "      <th>...</th>\n",
       "      <th>bs_price</th>\n",
       "      <th>strike_dist</th>\n",
       "      <th>price_delta</th>\n",
       "      <th>cum_volume</th>\n",
       "      <th>fut_option_price</th>\n",
       "      <th>fut_und_price</th>\n",
       "      <th>fut_bs_price</th>\n",
       "      <th>price_change</th>\n",
       "      <th>index_change</th>\n",
       "      <th>net_change</th>\n",
       "    </tr>\n",
       "  </thead>\n",
       "  <tbody>\n",
       "    <tr>\n",
       "      <th>6614</th>\n",
       "      <td>5ad6849305a44a074c575b69</td>\n",
       "      <td>buy</td>\n",
       "      <td>8411.90</td>\n",
       "      <td>BTC-9MAR18-9500-P</td>\n",
       "      <td>0.00</td>\n",
       "      <td>1082.611530</td>\n",
       "      <td>0.1</td>\n",
       "      <td>2</td>\n",
       "      <td>2018-03-09 01:03:59.185</td>\n",
       "      <td>5443698</td>\n",
       "      <td>...</td>\n",
       "      <td>1090.831531</td>\n",
       "      <td>0.114537</td>\n",
       "      <td>0.007593</td>\n",
       "      <td>9.7</td>\n",
       "      <td>NaN</td>\n",
       "      <td>NaN</td>\n",
       "      <td>NaN</td>\n",
       "      <td>NaN</td>\n",
       "      <td>NaN</td>\n",
       "      <td>NaN</td>\n",
       "    </tr>\n",
       "    <tr>\n",
       "      <th>6615</th>\n",
       "      <td>5ad6849305a44a074c575b6a</td>\n",
       "      <td>buy</td>\n",
       "      <td>8468.30</td>\n",
       "      <td>BTC-9MAR18-9500-P</td>\n",
       "      <td>500.00</td>\n",
       "      <td>1142.373670</td>\n",
       "      <td>0.2</td>\n",
       "      <td>0</td>\n",
       "      <td>2018-03-09 00:52:38.980</td>\n",
       "      <td>5442907</td>\n",
       "      <td>...</td>\n",
       "      <td>1035.747208</td>\n",
       "      <td>0.108600</td>\n",
       "      <td>-0.093338</td>\n",
       "      <td>9.6</td>\n",
       "      <td>NaN</td>\n",
       "      <td>NaN</td>\n",
       "      <td>NaN</td>\n",
       "      <td>NaN</td>\n",
       "      <td>NaN</td>\n",
       "      <td>NaN</td>\n",
       "    </tr>\n",
       "    <tr>\n",
       "      <th>6616</th>\n",
       "      <td>5ad6849305a44a074c575b6b</td>\n",
       "      <td>buy</td>\n",
       "      <td>8490.05</td>\n",
       "      <td>BTC-9MAR18-9500-P</td>\n",
       "      <td>500.00</td>\n",
       "      <td>1133.421675</td>\n",
       "      <td>0.3</td>\n",
       "      <td>0</td>\n",
       "      <td>2018-03-09 00:52:17.622</td>\n",
       "      <td>5442878</td>\n",
       "      <td>...</td>\n",
       "      <td>1014.571684</td>\n",
       "      <td>0.106311</td>\n",
       "      <td>-0.104859</td>\n",
       "      <td>9.4</td>\n",
       "      <td>1082.611530</td>\n",
       "      <td>8411.90</td>\n",
       "      <td>1090.831531</td>\n",
       "      <td>-0.044829</td>\n",
       "      <td>-78.15</td>\n",
       "      <td>-0.119994</td>\n",
       "    </tr>\n",
       "    <tr>\n",
       "      <th>6617</th>\n",
       "      <td>5ad6849305a44a074c575b6c</td>\n",
       "      <td>sell</td>\n",
       "      <td>8516.07</td>\n",
       "      <td>BTC-9MAR18-9500-P</td>\n",
       "      <td>500.00</td>\n",
       "      <td>1051.734645</td>\n",
       "      <td>0.1</td>\n",
       "      <td>0</td>\n",
       "      <td>2018-03-09 00:51:00.046</td>\n",
       "      <td>5442664</td>\n",
       "      <td>...</td>\n",
       "      <td>989.331358</td>\n",
       "      <td>0.103572</td>\n",
       "      <td>-0.059334</td>\n",
       "      <td>9.1</td>\n",
       "      <td>1142.373670</td>\n",
       "      <td>8468.30</td>\n",
       "      <td>1035.747208</td>\n",
       "      <td>0.086181</td>\n",
       "      <td>-47.77</td>\n",
       "      <td>0.039264</td>\n",
       "    </tr>\n",
       "    <tr>\n",
       "      <th>7277</th>\n",
       "      <td>5ad6849305a44a074c575b6d</td>\n",
       "      <td>buy</td>\n",
       "      <td>9033.19</td>\n",
       "      <td>BTC-9MAR18-9500-P</td>\n",
       "      <td>287.22</td>\n",
       "      <td>553.734547</td>\n",
       "      <td>0.2</td>\n",
       "      <td>2</td>\n",
       "      <td>2018-03-08 21:55:44.179</td>\n",
       "      <td>5435525</td>\n",
       "      <td>...</td>\n",
       "      <td>531.509037</td>\n",
       "      <td>0.049138</td>\n",
       "      <td>-0.040137</td>\n",
       "      <td>9.0</td>\n",
       "      <td>1133.421675</td>\n",
       "      <td>8490.05</td>\n",
       "      <td>1014.571684</td>\n",
       "      <td>1.046868</td>\n",
       "      <td>-543.14</td>\n",
       "      <td>0.138017</td>\n",
       "    </tr>\n",
       "  </tbody>\n",
       "</table>\n",
       "<p>5 rows × 30 columns</p>\n",
       "</div>"
      ],
      "text/plain": [
       "                         _id_x direction  indexPrice         instrument  \\\n",
       "6614  5ad6849305a44a074c575b69       buy     8411.90  BTC-9MAR18-9500-P   \n",
       "6615  5ad6849305a44a074c575b6a       buy     8468.30  BTC-9MAR18-9500-P   \n",
       "6616  5ad6849305a44a074c575b6b       buy     8490.05  BTC-9MAR18-9500-P   \n",
       "6617  5ad6849305a44a074c575b6c      sell     8516.07  BTC-9MAR18-9500-P   \n",
       "7277  5ad6849305a44a074c575b6d       buy     9033.19  BTC-9MAR18-9500-P   \n",
       "\n",
       "          iv        price  quantity  tickDirection               timeStamp  \\\n",
       "6614    0.00  1082.611530       0.1              2 2018-03-09 01:03:59.185   \n",
       "6615  500.00  1142.373670       0.2              0 2018-03-09 00:52:38.980   \n",
       "6616  500.00  1133.421675       0.3              0 2018-03-09 00:52:17.622   \n",
       "6617  500.00  1051.734645       0.1              0 2018-03-09 00:51:00.046   \n",
       "7277  287.22   553.734547       0.2              2 2018-03-08 21:55:44.179   \n",
       "\n",
       "      tradeId     ...         bs_price strike_dist price_delta  cum_volume  \\\n",
       "6614  5443698     ...      1090.831531    0.114537    0.007593         9.7   \n",
       "6615  5442907     ...      1035.747208    0.108600   -0.093338         9.6   \n",
       "6616  5442878     ...      1014.571684    0.106311   -0.104859         9.4   \n",
       "6617  5442664     ...       989.331358    0.103572   -0.059334         9.1   \n",
       "7277  5435525     ...       531.509037    0.049138   -0.040137         9.0   \n",
       "\n",
       "      fut_option_price  fut_und_price fut_bs_price price_change  index_change  \\\n",
       "6614               NaN            NaN          NaN          NaN           NaN   \n",
       "6615               NaN            NaN          NaN          NaN           NaN   \n",
       "6616       1082.611530        8411.90  1090.831531    -0.044829        -78.15   \n",
       "6617       1142.373670        8468.30  1035.747208     0.086181        -47.77   \n",
       "7277       1133.421675        8490.05  1014.571684     1.046868       -543.14   \n",
       "\n",
       "      net_change  \n",
       "6614         NaN  \n",
       "6615         NaN  \n",
       "6616   -0.119994  \n",
       "6617    0.039264  \n",
       "7277    0.138017  \n",
       "\n",
       "[5 rows x 30 columns]"
      ]
     },
     "execution_count": 62,
     "metadata": {},
     "output_type": "execute_result"
    }
   ],
   "source": [
    "df2.head()"
   ]
  },
  {
   "cell_type": "markdown",
   "metadata": {},
   "source": [
    "### Model Building\n",
    "\n",
    "With our features in place, we want to try several models and see which of them perform the best.  We'll train both regressors and classifiers with the intention of using both to make our trade decisions."
   ]
  },
  {
   "cell_type": "markdown",
   "metadata": {},
   "source": [
    "First we optimize hyperparameter selection based of the F measure."
   ]
  },
  {
   "cell_type": "code",
   "execution_count": null,
   "metadata": {},
   "outputs": [],
   "source": [
    "param_grid = {'min_samples_leaf': [2, 5, 10],\n",
    "          'min_samples_split': [2, 5, 10],\n",
    "          'max_depth' : [2, 3],\n",
    "          'subsample': [.8, 1],\n",
    "          'max_features' : [.8, 1]\n",
    "          }\n",
    "\n",
    "y_fit = (Y.values > 0)*1\n",
    "gb = GridSearchCV(GradientBoostingClassifier(n_estimators = 700), param_grid, make_scorer(f1_score),\n",
    "                  cv = rs)\n",
    "gb.fit(X, y_fit.ravel())\n",
    "print(\"Best estimator found by grid search:{}\".format(gb.best_estimator_))\n"
   ]
  },
  {
   "cell_type": "markdown",
   "metadata": {},
   "source": [
    "We employ a 10 fold cross validation and return some metrics for each fold to determine the best model."
   ]
  },
  {
   "cell_type": "code",
   "execution_count": 64,
   "metadata": {},
   "outputs": [],
   "source": [
    "warnings.filterwarnings('ignore')\n",
    "all_mets = []\n",
    "rs  = KFold(n_splits=10, shuffle=True)\n",
    "splits = rs.split(X, Y, groups = groups)\n",
    "for train, test in splits:\n",
    "    x_train, y_train = X.iloc[train,:], Y.iloc[train,:]\n",
    "    x_test, y_test, actuals_test = X.iloc[test, :],  Y.iloc[test,:], actuals[test] \n",
    "\n",
    "    logistic_test = (y_test.values > 0)*1\n",
    "    logistic_train = (y_train.values > 0)*1\n",
    "\n",
    "    gb = ske.GradientBoostingClassifier(min_samples_leaf= 5,\n",
    "          min_samples_split= 10,\n",
    "          max_depth = 3,\n",
    "          subsample = .8,\n",
    "          n_estimators = 1000)    \n",
    "    gb.fit(x_train, logistic_train.ravel())\n",
    "    probs3 = gb.predict_proba(x_test)\n",
    "    \n",
    "    fpr_gb, tpr_gb, _ = roc_curve(logistic_test, probs3[:,1].ravel(), 1)\n",
    "\n",
    "    \n",
    "    #rf regression (gives continuous predictions)\n",
    "    regr = ske.RandomForestClassifier(min_samples_leaf = 10, n_estimators = 100, min_samples_split = 10)\n",
    "    regr.fit(x_train, logistic_train.ravel())\n",
    "    probs2 = regr.predict_proba(x_test)\n",
    "    fpr_rf, tpr_rf, _ = roc_curve(logistic_test, probs2[:,1].ravel(), 1)\n",
    "    #pred = regr.predict(x_test)\n",
    "    \n",
    "    \n",
    "    #logistic classifier on original data\n",
    "    log_regr = LogisticRegression()\n",
    "    log_regr.fit(x_train, logistic_train.ravel())\n",
    "    probs1 = log_regr.predict_proba(x_test)\n",
    "    fpr_log, tpr_log, _ = roc_curve(logistic_test, probs1[:,1].ravel(), 1)    \n",
    "\n",
    "\n",
    "    #stack\n",
    "    all_probs = np.array([probs2[:,1].ravel(), probs3[:,1].ravel()]).mean(axis = 0)\n",
    "    fpr_st, tpr_st, _ = roc_curve(logistic_test, all_probs.ravel(), 1)\n",
    "    \n",
    "\n",
    "    #Regressors\n",
    "    #gb\n",
    "    gb_reg = ske.GradientBoostingRegressor(n_estimators = 1000, \n",
    "                                      min_samples_leaf = 5, \n",
    "                                      min_samples_split = 10, \n",
    "                                      max_depth = 3\n",
    "                                      )\n",
    "    gb_reg.fit(x_train, y_train.values.ravel())\n",
    "    \n",
    "    pred1 = gb_reg.predict(x_test) \n",
    "    \n",
    "    rf_reg = ske.GradientBoostingRegressor(n_estimators = 200, \n",
    "                                       min_samples_leaf = 5, \n",
    "                                       min_samples_split = 10, \n",
    "                                       max_depth = 3\n",
    "                                       )\n",
    "    rf_reg.fit(x_train, y_train.values.ravel())\n",
    "    pred2 = rf_reg.predict(x_test) \n",
    "    #stack\n",
    "    pred3 = np.array([pred1, pred2]).mean(axis = 0)\n",
    "\n",
    "    \n",
    "    #mets\n",
    "    mets = { \n",
    "                'price_increase_rf': np.percentile(actuals_test[(probs2[:,1] > .65) & (pred1 > .05)], 50),\n",
    "                'price_increase_gb': np.percentile(actuals_test[(probs3[:,1] > .65) & (pred2 > .05)], 50),\n",
    "                'price_increase_log' : np.percentile(actuals_test[probs1[:,1] > .6], 50),\n",
    "                'price_increase_st' : np.percentile(actuals_test[(all_probs > .65) & (pred3 > .05)], 50),\n",
    "                'pirce_increase_median' : np.percentile(actuals_test, 50),\n",
    "                'price_increase_rfm': actuals_test[(probs2[:,1] > .65) & (pred1 > .05)].mean(),\n",
    "                'price_increase_gbm': actuals_test[(probs3[:,1] > .65) & (pred2 > .05)].mean(),\n",
    "                'price_increase_stm' : actuals_test[(all_probs > .65) & (pred3 > .05)].mean(),\n",
    "                'pirce_increase_mean' : actuals_test.mean(),\n",
    "                'score_gb' : gb.score(x_test, logistic_test),\n",
    "                'score_rf' : regr.score(x_test, logistic_test),\n",
    "                'score_log' : log_regr.score(x_test, logistic_test),\n",
    "                'mse_gb' : mean_squared_error(y_test.values.ravel(), pred1),\n",
    "                'mse_rf' : mean_squared_error(y_test.values.ravel(), pred2),\n",
    "                'mse_st' : mean_squared_error(y_test.values.ravel(), pred3),\n",
    "                'r2_gb' :  r2_score(y_test.values.ravel(), pred1),\n",
    "                'r2_rf' :  r2_score(y_test.values.ravel(), pred2),\n",
    "                'r2_st' :  r2_score(y_test.values.ravel(), pred3),\n",
    "                'auc_rf' : auc(fpr_rf, tpr_rf),\n",
    "                'auc_gb' : auc(fpr_gb, tpr_gb),\n",
    "                'auc_st' : auc(fpr_st, tpr_st)\n",
    "            }\n",
    "    all_mets.append(mets)\n",
    "met_df = pd.DataFrame(all_mets)\n"
   ]
  },
  {
   "cell_type": "code",
   "execution_count": null,
   "metadata": {},
   "outputs": [],
   "source": []
  },
  {
   "cell_type": "markdown",
   "metadata": {},
   "source": [
    "Random Forest barely outperforms the RF/GB stack."
   ]
  },
  {
   "cell_type": "code",
   "execution_count": 65,
   "metadata": {},
   "outputs": [
    {
     "data": {
      "text/plain": [
       "{'cum_volume': 0.20087298026299916,\n",
       " 'option_type': 0.01515554071059985,\n",
       " 'price_delta': 0.2828477979706646,\n",
       " 'strike_dist': 0.24594396897840234,\n",
       " 'time_left': 0.25517971207733386}"
      ]
     },
     "execution_count": 65,
     "metadata": {},
     "output_type": "execute_result"
    }
   ],
   "source": [
    "dict(zip(['cum_volume', 'strike_dist', 'price_delta', 'time_left', 'option_type'], regr.feature_importances_))"
   ]
  },
  {
   "cell_type": "code",
   "execution_count": 66,
   "metadata": {},
   "outputs": [
    {
     "data": {
      "text/plain": [
       "{'cum_volume': 0.1719455893754814,\n",
       " 'option_type': 0.009440981425607429,\n",
       " 'price_delta': 0.24477842830553373,\n",
       " 'strike_dist': 0.2550936655569107,\n",
       " 'time_left': 0.3187413353364667}"
      ]
     },
     "execution_count": 66,
     "metadata": {},
     "output_type": "execute_result"
    }
   ],
   "source": [
    "dict(zip(['cum_volume', 'strike_dist', 'price_delta', 'time_left', 'option_type'], gb.feature_importances_))"
   ]
  },
  {
   "cell_type": "code",
   "execution_count": 67,
   "metadata": {},
   "outputs": [
    {
     "data": {
      "image/png": "[encoded data removed]",
      "text/plain": [
       "<matplotlib.figure.Figure at 0x24d2e8c4390>"
      ]
     },
     "metadata": {},
     "output_type": "display_data"
    }
   ],
   "source": [
    "plt.plot([0, 1], [0, 1], 'k--')\n",
    "plt.plot(fpr_rf, tpr_rf, label='RF')\n",
    "plt.plot(fpr_log, tpr_log, label='Logistic')\n",
    "plt.plot(fpr_gb, tpr_gb, label='GB')\n",
    "plt.plot(fpr_st, tpr_st, label='Stack')\n",
    "plt.xlabel('False positive rate')\n",
    "plt.ylabel('True positive rate')\n",
    "plt.title('ROC curve')\n",
    "plt.legend(loc='best')\n",
    "plt.show()"
   ]
  },
  {
   "cell_type": "code",
   "execution_count": 68,
   "metadata": {},
   "outputs": [
    {
     "data": {
      "text/html": [
       "<div>\n",
       "<style scoped>\n",
       "    .dataframe tbody tr th:only-of-type {\n",
       "        vertical-align: middle;\n",
       "    }\n",
       "\n",
       "    .dataframe tbody tr th {\n",
       "        vertical-align: top;\n",
       "    }\n",
       "\n",
       "    .dataframe thead th {\n",
       "        text-align: right;\n",
       "    }\n",
       "</style>\n",
       "<table border=\"1\" class=\"dataframe\">\n",
       "  <thead>\n",
       "    <tr style=\"text-align: right;\">\n",
       "      <th></th>\n",
       "      <th>auc_gb</th>\n",
       "      <th>auc_rf</th>\n",
       "      <th>auc_st</th>\n",
       "      <th>mse_gb</th>\n",
       "      <th>mse_rf</th>\n",
       "      <th>mse_st</th>\n",
       "      <th>pirce_increase_mean</th>\n",
       "      <th>pirce_increase_median</th>\n",
       "      <th>price_increase_gb</th>\n",
       "      <th>price_increase_gbm</th>\n",
       "      <th>...</th>\n",
       "      <th>price_increase_rf</th>\n",
       "      <th>price_increase_rfm</th>\n",
       "      <th>price_increase_st</th>\n",
       "      <th>price_increase_stm</th>\n",
       "      <th>r2_gb</th>\n",
       "      <th>r2_rf</th>\n",
       "      <th>r2_st</th>\n",
       "      <th>score_gb</th>\n",
       "      <th>score_log</th>\n",
       "      <th>score_rf</th>\n",
       "    </tr>\n",
       "  </thead>\n",
       "  <tbody>\n",
       "    <tr>\n",
       "      <th>0</th>\n",
       "      <td>0.662077</td>\n",
       "      <td>0.694438</td>\n",
       "      <td>0.691254</td>\n",
       "      <td>0.158734</td>\n",
       "      <td>0.165139</td>\n",
       "      <td>0.160623</td>\n",
       "      <td>0.133240</td>\n",
       "      <td>0.0</td>\n",
       "      <td>0.000270</td>\n",
       "      <td>0.880095</td>\n",
       "      <td>...</td>\n",
       "      <td>0.002860</td>\n",
       "      <td>0.838694</td>\n",
       "      <td>0.000978</td>\n",
       "      <td>0.891787</td>\n",
       "      <td>0.154719</td>\n",
       "      <td>0.120611</td>\n",
       "      <td>0.144657</td>\n",
       "      <td>0.619591</td>\n",
       "      <td>0.541880</td>\n",
       "      <td>0.647510</td>\n",
       "    </tr>\n",
       "    <tr>\n",
       "      <th>1</th>\n",
       "      <td>0.645788</td>\n",
       "      <td>0.687892</td>\n",
       "      <td>0.680664</td>\n",
       "      <td>0.155056</td>\n",
       "      <td>0.157225</td>\n",
       "      <td>0.154568</td>\n",
       "      <td>1.021935</td>\n",
       "      <td>0.0</td>\n",
       "      <td>0.001634</td>\n",
       "      <td>8.969430</td>\n",
       "      <td>...</td>\n",
       "      <td>0.001445</td>\n",
       "      <td>7.981058</td>\n",
       "      <td>0.004654</td>\n",
       "      <td>8.691498</td>\n",
       "      <td>0.145645</td>\n",
       "      <td>0.133694</td>\n",
       "      <td>0.148330</td>\n",
       "      <td>0.609586</td>\n",
       "      <td>0.546301</td>\n",
       "      <td>0.635644</td>\n",
       "    </tr>\n",
       "    <tr>\n",
       "      <th>2</th>\n",
       "      <td>0.649056</td>\n",
       "      <td>0.696172</td>\n",
       "      <td>0.685577</td>\n",
       "      <td>0.167615</td>\n",
       "      <td>0.171365</td>\n",
       "      <td>0.167913</td>\n",
       "      <td>0.499041</td>\n",
       "      <td>0.0</td>\n",
       "      <td>0.000280</td>\n",
       "      <td>3.732613</td>\n",
       "      <td>...</td>\n",
       "      <td>0.004265</td>\n",
       "      <td>3.347054</td>\n",
       "      <td>0.001237</td>\n",
       "      <td>3.451009</td>\n",
       "      <td>0.145190</td>\n",
       "      <td>0.126064</td>\n",
       "      <td>0.143670</td>\n",
       "      <td>0.603304</td>\n",
       "      <td>0.535365</td>\n",
       "      <td>0.638902</td>\n",
       "    </tr>\n",
       "    <tr>\n",
       "      <th>3</th>\n",
       "      <td>0.637651</td>\n",
       "      <td>0.685655</td>\n",
       "      <td>0.673617</td>\n",
       "      <td>0.157517</td>\n",
       "      <td>0.161110</td>\n",
       "      <td>0.157688</td>\n",
       "      <td>0.108765</td>\n",
       "      <td>0.0</td>\n",
       "      <td>0.002143</td>\n",
       "      <td>0.789245</td>\n",
       "      <td>...</td>\n",
       "      <td>0.011321</td>\n",
       "      <td>0.730412</td>\n",
       "      <td>0.005708</td>\n",
       "      <td>0.771411</td>\n",
       "      <td>0.154678</td>\n",
       "      <td>0.135397</td>\n",
       "      <td>0.153759</td>\n",
       "      <td>0.596557</td>\n",
       "      <td>0.543741</td>\n",
       "      <td>0.628432</td>\n",
       "    </tr>\n",
       "    <tr>\n",
       "      <th>4</th>\n",
       "      <td>0.655841</td>\n",
       "      <td>0.696936</td>\n",
       "      <td>0.689100</td>\n",
       "      <td>0.159307</td>\n",
       "      <td>0.162872</td>\n",
       "      <td>0.159562</td>\n",
       "      <td>0.210475</td>\n",
       "      <td>0.0</td>\n",
       "      <td>0.002800</td>\n",
       "      <td>1.532220</td>\n",
       "      <td>...</td>\n",
       "      <td>0.015205</td>\n",
       "      <td>1.413357</td>\n",
       "      <td>0.007246</td>\n",
       "      <td>1.444230</td>\n",
       "      <td>0.177548</td>\n",
       "      <td>0.159140</td>\n",
       "      <td>0.176232</td>\n",
       "      <td>0.614472</td>\n",
       "      <td>0.540717</td>\n",
       "      <td>0.640996</td>\n",
       "    </tr>\n",
       "    <tr>\n",
       "      <th>5</th>\n",
       "      <td>0.640225</td>\n",
       "      <td>0.681736</td>\n",
       "      <td>0.672974</td>\n",
       "      <td>0.159669</td>\n",
       "      <td>0.162749</td>\n",
       "      <td>0.159650</td>\n",
       "      <td>0.836258</td>\n",
       "      <td>0.0</td>\n",
       "      <td>0.007373</td>\n",
       "      <td>6.899677</td>\n",
       "      <td>...</td>\n",
       "      <td>0.012113</td>\n",
       "      <td>6.358847</td>\n",
       "      <td>0.016944</td>\n",
       "      <td>6.771074</td>\n",
       "      <td>0.137827</td>\n",
       "      <td>0.121198</td>\n",
       "      <td>0.137929</td>\n",
       "      <td>0.599814</td>\n",
       "      <td>0.536761</td>\n",
       "      <td>0.635877</td>\n",
       "    </tr>\n",
       "    <tr>\n",
       "      <th>6</th>\n",
       "      <td>0.644163</td>\n",
       "      <td>0.688789</td>\n",
       "      <td>0.679011</td>\n",
       "      <td>0.183060</td>\n",
       "      <td>0.183044</td>\n",
       "      <td>0.181149</td>\n",
       "      <td>0.605602</td>\n",
       "      <td>0.0</td>\n",
       "      <td>0.000000</td>\n",
       "      <td>4.742320</td>\n",
       "      <td>...</td>\n",
       "      <td>0.000000</td>\n",
       "      <td>4.493887</td>\n",
       "      <td>0.000079</td>\n",
       "      <td>4.772933</td>\n",
       "      <td>0.092104</td>\n",
       "      <td>0.092186</td>\n",
       "      <td>0.101585</td>\n",
       "      <td>0.603769</td>\n",
       "      <td>0.541415</td>\n",
       "      <td>0.638669</td>\n",
       "    </tr>\n",
       "    <tr>\n",
       "      <th>7</th>\n",
       "      <td>0.645851</td>\n",
       "      <td>0.689441</td>\n",
       "      <td>0.680507</td>\n",
       "      <td>0.166543</td>\n",
       "      <td>0.169838</td>\n",
       "      <td>0.166620</td>\n",
       "      <td>0.132556</td>\n",
       "      <td>0.0</td>\n",
       "      <td>0.000548</td>\n",
       "      <td>0.687472</td>\n",
       "      <td>...</td>\n",
       "      <td>0.006094</td>\n",
       "      <td>0.676159</td>\n",
       "      <td>0.007611</td>\n",
       "      <td>0.703736</td>\n",
       "      <td>0.128925</td>\n",
       "      <td>0.111692</td>\n",
       "      <td>0.128521</td>\n",
       "      <td>0.610284</td>\n",
       "      <td>0.533737</td>\n",
       "      <td>0.639832</td>\n",
       "    </tr>\n",
       "    <tr>\n",
       "      <th>8</th>\n",
       "      <td>0.641719</td>\n",
       "      <td>0.690787</td>\n",
       "      <td>0.677293</td>\n",
       "      <td>0.178852</td>\n",
       "      <td>0.183632</td>\n",
       "      <td>0.179813</td>\n",
       "      <td>0.704321</td>\n",
       "      <td>0.0</td>\n",
       "      <td>0.000000</td>\n",
       "      <td>5.999471</td>\n",
       "      <td>...</td>\n",
       "      <td>0.001076</td>\n",
       "      <td>5.727077</td>\n",
       "      <td>0.000158</td>\n",
       "      <td>5.770674</td>\n",
       "      <td>0.092523</td>\n",
       "      <td>0.068270</td>\n",
       "      <td>0.087649</td>\n",
       "      <td>0.600884</td>\n",
       "      <td>0.549220</td>\n",
       "      <td>0.636258</td>\n",
       "    </tr>\n",
       "    <tr>\n",
       "      <th>9</th>\n",
       "      <td>0.656278</td>\n",
       "      <td>0.690882</td>\n",
       "      <td>0.685057</td>\n",
       "      <td>0.174092</td>\n",
       "      <td>0.175483</td>\n",
       "      <td>0.173328</td>\n",
       "      <td>0.107754</td>\n",
       "      <td>0.0</td>\n",
       "      <td>0.000292</td>\n",
       "      <td>0.553847</td>\n",
       "      <td>...</td>\n",
       "      <td>0.005405</td>\n",
       "      <td>0.514247</td>\n",
       "      <td>0.001700</td>\n",
       "      <td>0.560196</td>\n",
       "      <td>0.132959</td>\n",
       "      <td>0.126033</td>\n",
       "      <td>0.136763</td>\n",
       "      <td>0.609030</td>\n",
       "      <td>0.541541</td>\n",
       "      <td>0.645567</td>\n",
       "    </tr>\n",
       "  </tbody>\n",
       "</table>\n",
       "<p>10 rows × 21 columns</p>\n",
       "</div>"
      ],
      "text/plain": [
       "     auc_gb    auc_rf    auc_st    mse_gb    mse_rf    mse_st  \\\n",
       "0  0.662077  0.694438  0.691254  0.158734  0.165139  0.160623   \n",
       "1  0.645788  0.687892  0.680664  0.155056  0.157225  0.154568   \n",
       "2  0.649056  0.696172  0.685577  0.167615  0.171365  0.167913   \n",
       "3  0.637651  0.685655  0.673617  0.157517  0.161110  0.157688   \n",
       "4  0.655841  0.696936  0.689100  0.159307  0.162872  0.159562   \n",
       "5  0.640225  0.681736  0.672974  0.159669  0.162749  0.159650   \n",
       "6  0.644163  0.688789  0.679011  0.183060  0.183044  0.181149   \n",
       "7  0.645851  0.689441  0.680507  0.166543  0.169838  0.166620   \n",
       "8  0.641719  0.690787  0.677293  0.178852  0.183632  0.179813   \n",
       "9  0.656278  0.690882  0.685057  0.174092  0.175483  0.173328   \n",
       "\n",
       "   pirce_increase_mean  pirce_increase_median  price_increase_gb  \\\n",
       "0             0.133240                    0.0           0.000270   \n",
       "1             1.021935                    0.0           0.001634   \n",
       "2             0.499041                    0.0           0.000280   \n",
       "3             0.108765                    0.0           0.002143   \n",
       "4             0.210475                    0.0           0.002800   \n",
       "5             0.836258                    0.0           0.007373   \n",
       "6             0.605602                    0.0           0.000000   \n",
       "7             0.132556                    0.0           0.000548   \n",
       "8             0.704321                    0.0           0.000000   \n",
       "9             0.107754                    0.0           0.000292   \n",
       "\n",
       "   price_increase_gbm    ...     price_increase_rf  price_increase_rfm  \\\n",
       "0            0.880095    ...              0.002860            0.838694   \n",
       "1            8.969430    ...              0.001445            7.981058   \n",
       "2            3.732613    ...              0.004265            3.347054   \n",
       "3            0.789245    ...              0.011321            0.730412   \n",
       "4            1.532220    ...              0.015205            1.413357   \n",
       "5            6.899677    ...              0.012113            6.358847   \n",
       "6            4.742320    ...              0.000000            4.493887   \n",
       "7            0.687472    ...              0.006094            0.676159   \n",
       "8            5.999471    ...              0.001076            5.727077   \n",
       "9            0.553847    ...              0.005405            0.514247   \n",
       "\n",
       "   price_increase_st  price_increase_stm     r2_gb     r2_rf     r2_st  \\\n",
       "0           0.000978            0.891787  0.154719  0.120611  0.144657   \n",
       "1           0.004654            8.691498  0.145645  0.133694  0.148330   \n",
       "2           0.001237            3.451009  0.145190  0.126064  0.143670   \n",
       "3           0.005708            0.771411  0.154678  0.135397  0.153759   \n",
       "4           0.007246            1.444230  0.177548  0.159140  0.176232   \n",
       "5           0.016944            6.771074  0.137827  0.121198  0.137929   \n",
       "6           0.000079            4.772933  0.092104  0.092186  0.101585   \n",
       "7           0.007611            0.703736  0.128925  0.111692  0.128521   \n",
       "8           0.000158            5.770674  0.092523  0.068270  0.087649   \n",
       "9           0.001700            0.560196  0.132959  0.126033  0.136763   \n",
       "\n",
       "   score_gb  score_log  score_rf  \n",
       "0  0.619591   0.541880  0.647510  \n",
       "1  0.609586   0.546301  0.635644  \n",
       "2  0.603304   0.535365  0.638902  \n",
       "3  0.596557   0.543741  0.628432  \n",
       "4  0.614472   0.540717  0.640996  \n",
       "5  0.599814   0.536761  0.635877  \n",
       "6  0.603769   0.541415  0.638669  \n",
       "7  0.610284   0.533737  0.639832  \n",
       "8  0.600884   0.549220  0.636258  \n",
       "9  0.609030   0.541541  0.645567  \n",
       "\n",
       "[10 rows x 21 columns]"
      ]
     },
     "execution_count": 68,
     "metadata": {},
     "output_type": "execute_result"
    }
   ],
   "source": [
    "met_df"
   ]
  },
  {
   "cell_type": "code",
   "execution_count": 81,
   "metadata": {},
   "outputs": [
    {
     "data": {
      "image/png": "[encoded data removed]",
      "text/plain": [
       "<matplotlib.figure.Figure at 0x24d1d8b6860>"
      ]
     },
     "metadata": {},
     "output_type": "display_data"
    }
   ],
   "source": [
    "sns.boxplot(data = met_df[['auc_rf', 'auc_gb', 'auc_st']])\n",
    "plt.show()"
   ]
  },
  {
   "cell_type": "code",
   "execution_count": 70,
   "metadata": {},
   "outputs": [
    {
     "data": {
      "text/plain": [
       "<matplotlib.axes._subplots.AxesSubplot at 0x24d1d9380b8>"
      ]
     },
     "execution_count": 70,
     "metadata": {},
     "output_type": "execute_result"
    },
    {
     "data": {
      "image/png": "[encoded data removed]",
      "text/plain": [
       "<matplotlib.figure.Figure at 0x24d2e940d30>"
      ]
     },
     "metadata": {},
     "output_type": "display_data"
    }
   ],
   "source": [
    "sns.boxplot(data = met_df[['score_rf', 'score_gb', 'score_log']])\n",
    "plt.show()"
   ]
  },
  {
   "cell_type": "code",
   "execution_count": 71,
   "metadata": {},
   "outputs": [
    {
     "data": {
      "text/plain": [
       "<matplotlib.axes._subplots.AxesSubplot at 0x24d1d8cb1d0>"
      ]
     },
     "execution_count": 71,
     "metadata": {},
     "output_type": "execute_result"
    },
    {
     "data": {
      "image/png": "[encoded data removed]",
      "text/plain": [
       "<matplotlib.figure.Figure at 0x24d2e940630>"
      ]
     },
     "metadata": {},
     "output_type": "display_data"
    }
   ],
   "source": [
    "sns.boxplot(data = met_df[['r2_rf', 'r2_gb', 'r2_st']])\n",
    "plt.show()"
   ]
  },
  {
   "cell_type": "code",
   "execution_count": 84,
   "metadata": {
    "scrolled": true
   },
   "outputs": [
    {
     "data": {
      "image/png": "[encoded data removed]",
      "text/plain": [
       "<matplotlib.figure.Figure at 0x24d26e6d1d0>"
      ]
     },
     "metadata": {},
     "output_type": "display_data"
    }
   ],
   "source": [
    "sns.boxplot(data = met_df[['price_increase_rf', 'price_increase_gb', 'price_increase_st', 'price_increase_log', 'pirce_increase_median']],\n",
    "           orient = 'h')\n",
    "plt.show()"
   ]
  },
  {
   "cell_type": "code",
   "execution_count": 73,
   "metadata": {},
   "outputs": [
    {
     "data": {
      "text/plain": [
       "272"
      ]
     },
     "execution_count": 73,
     "metadata": {},
     "output_type": "execute_result"
    }
   ],
   "source": [
    "sum(probs1[:, 1] > .6)"
   ]
  },
  {
   "cell_type": "code",
   "execution_count": 74,
   "metadata": {},
   "outputs": [
    {
     "data": {
      "text/plain": [
       "512"
      ]
     },
     "execution_count": 74,
     "metadata": {},
     "output_type": "execute_result"
    }
   ],
   "source": [
    "sum((probs3[:,1] > .65) & (pred2 > .05))"
   ]
  },
  {
   "cell_type": "code",
   "execution_count": 83,
   "metadata": {},
   "outputs": [
    {
     "data": {
      "image/png": "[encoded data removed]",
      "text/plain": [
       "<matplotlib.figure.Figure at 0x24d1d819400>"
      ]
     },
     "metadata": {},
     "output_type": "display_data"
    }
   ],
   "source": [
    "sns.boxplot(data = met_df[['price_increase_rfm', 'price_increase_gbm', 'price_increase_stm', 'pirce_increase_mean']], \n",
    "           orient = 'h')\n",
    "plt.show()"
   ]
  },
  {
   "cell_type": "markdown",
   "metadata": {},
   "source": [
    "### Conclusions"
   ]
  },
  {
   "cell_type": "code",
   "execution_count": 76,
   "metadata": {},
   "outputs": [],
   "source": [
    "def impl_vol_func(vol, df):\n",
    "    from scipy.stats import norm\n",
    "    \n",
    "    rf = df['rf']\n",
    "    t = df['time_left']\n",
    "    top_d1 = np.log( df.indexPrice/df.strike) + (rf + ((vol)**2)/2)*t\n",
    "    bottom_d1 = vol * np.sqrt(t)\n",
    "    d1 = top_d1/bottom_d1\n",
    "\n",
    "    d2 = d1 - vol * np.sqrt(t)\n",
    "    if df.option_type == 'C':\n",
    "        return  df.price - (df.indexPrice*norm.cdf(d1) - df.strike * np.exp(-rf*t) * norm.cdf(d2))\n",
    "    else:\n",
    "        return df.price - (df.strike * np.exp(-rf * t) * norm.cdf(-d2) - df.indexPrice * norm.cdf(-d1))\n",
    "def vega(vol, df):\n",
    "    from scipy.stats import norm\n",
    "    \n",
    "    rf = df['rf']\n",
    "    t = df['time_left']\n",
    "\n",
    "    top_d1 = np.log(df.indexPrice/df.strike) + (rf + ((vol)**2)/2)*t\n",
    "    bottom_d1 = vol * np.sqrt(t)\n",
    "    d1 = top_d1/bottom_d1\n",
    "    return df.indexPrice * np.sqrt(t) * norm.cdf(d1, 0.0, 1.0)\n",
    "\n",
    "def get_implied_vol(df):\n",
    "    from scipy.optimize import fsolve\n",
    "    \n",
    "    impl_vol = fsolve(impl_vol_func, df['sd'], args = (df,), fprime = vega)\n",
    "    \n",
    "    return impl_vol[0]"
   ]
  },
  {
   "cell_type": "code",
   "execution_count": 77,
   "metadata": {},
   "outputs": [],
   "source": [
    "from datetime import datetime\n",
    "this_year = df2.loc[df2['timeStamp'] >= datetime(2018,1,1)]"
   ]
  },
  {
   "cell_type": "code",
   "execution_count": 78,
   "metadata": {},
   "outputs": [],
   "source": [
    "warnings.filterwarnings('ignore')\n",
    "this_year['implied_vol'] = this_year.apply(get_implied_vol, axis = 1)"
   ]
  },
  {
   "cell_type": "code",
   "execution_count": 87,
   "metadata": {},
   "outputs": [
    {
     "data": {
      "image/png": "[encoded data removed]",
      "text/plain": [
       "<matplotlib.figure.Figure at 0x24d27cbf898>"
      ]
     },
     "metadata": {},
     "output_type": "display_data"
    }
   ],
   "source": [
    "only_calls = this_year.loc[(this_year['implied_vol'] > .5) & (this_year['implied_vol'] < 3) & (this_year['option_type'] == 1)]\n",
    "plt.scatter(only_calls['strike_dist'], only_calls['implied_vol'])\n",
    "plt.xlabel('Strike Distance')\n",
    "plt.ylabel('Implied Volatility')\n",
    "plt.show()"
   ]
  },
  {
   "cell_type": "code",
   "execution_count": 88,
   "metadata": {},
   "outputs": [
    {
     "data": {
      "image/png": "[encoded data removed]",
      "text/plain": [
       "<matplotlib.figure.Figure at 0x24d27f033c8>"
      ]
     },
     "metadata": {},
     "output_type": "display_data"
    }
   ],
   "source": [
    "only_puts = this_year.loc[(this_year['implied_vol'] > .5) & (this_year['implied_vol'] < 3) & (this_year['option_type'] == 2)]\n",
    "plt.scatter(only_puts['strike_dist'], only_puts['implied_vol'])\n",
    "plt.xlabel('Strike Distance')\n",
    "plt.ylabel('Implied Volatility')\n",
    "plt.show()"
   ]
  },
  {
   "cell_type": "code",
   "execution_count": null,
   "metadata": {},
   "outputs": [],
   "source": []
  }
 ],
 "metadata": {
  "kernelspec": {
   "display_name": "Python 3",
   "language": "python",
   "name": "python3"
  },
  "language_info": {
   "codemirror_mode": {
    "name": "ipython",
    "version": 3
   },
   "file_extension": ".py",
   "mimetype": "text/x-python",
   "name": "python",
   "nbconvert_exporter": "python",
   "pygments_lexer": "ipython3",
   "version": "3.6.4"
  }
 },
 "nbformat": 4,
 "nbformat_minor": 2
}

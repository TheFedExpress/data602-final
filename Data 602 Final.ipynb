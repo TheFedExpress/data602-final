{
 "cells": [
  {
   "cell_type": "code",
   "execution_count": 10,
   "metadata": {},
   "outputs": [
    {
     "ename": "ModuleNotFoundError",
     "evalue": "No module named 'trade_analysis'",
     "output_type": "error",
     "traceback": [
      "\u001b[1;31m---------------------------------------------------------------------------\u001b[0m",
      "\u001b[1;31mModuleNotFoundError\u001b[0m                       Traceback (most recent call last)",
      "\u001b[1;32m<ipython-input-10-429bd78dfcc2>\u001b[0m in \u001b[0;36m<module>\u001b[1;34m()\u001b[0m\n\u001b[0;32m      8\u001b[0m \u001b[1;32mfrom\u001b[0m \u001b[0msklearn\u001b[0m\u001b[1;33m.\u001b[0m\u001b[0mmetrics\u001b[0m \u001b[1;32mimport\u001b[0m \u001b[0mauc\u001b[0m\u001b[1;33m,\u001b[0m \u001b[0mroc_curve\u001b[0m\u001b[1;33m,\u001b[0m \u001b[0mf1_score\u001b[0m\u001b[1;33m,\u001b[0m \u001b[0mmake_scorer\u001b[0m\u001b[1;33m\u001b[0m\u001b[0m\n\u001b[0;32m      9\u001b[0m \u001b[1;32mfrom\u001b[0m \u001b[0msklearn\u001b[0m\u001b[1;33m.\u001b[0m\u001b[0mmodel_selection\u001b[0m \u001b[1;32mimport\u001b[0m \u001b[0mGridSearchCV\u001b[0m\u001b[1;33m,\u001b[0m  \u001b[0mcross_val_score\u001b[0m\u001b[1;33m,\u001b[0m \u001b[0mKFold\u001b[0m\u001b[1;33m\u001b[0m\u001b[0m\n\u001b[1;32m---> 10\u001b[1;33m \u001b[1;32mfrom\u001b[0m \u001b[0mtrade_analysis\u001b[0m \u001b[1;32mimport\u001b[0m \u001b[0mget_train_data\u001b[0m\u001b[1;33m,\u001b[0m \u001b[0mprep_data\u001b[0m\u001b[1;33m\u001b[0m\u001b[0m\n\u001b[0m\u001b[0;32m     11\u001b[0m \u001b[1;33m\u001b[0m\u001b[0m\n\u001b[0;32m     12\u001b[0m \u001b[1;32mdef\u001b[0m \u001b[0mget_train_data\u001b[0m\u001b[1;33m(\u001b[0m\u001b[1;33m)\u001b[0m\u001b[1;33m:\u001b[0m\u001b[1;33m\u001b[0m\u001b[0m\n",
      "\u001b[1;31mModuleNotFoundError\u001b[0m: No module named 'trade_analysis'"
     ]
    }
   ],
   "source": [
    "import matplotlib.pyplot as plt\n",
    "import numpy as np\n",
    "from sklearn.ensemble import RandomForestClassifier, GradientBoostingClassifier\n",
    "from sklearn.model_selection import GroupShuffleSplit\n",
    "from sklearn.metrics import mean_squared_error\n",
    "from sklearn.linear_model import LogisticRegression\n",
    "from matplotlib import pyplot as plt\n",
    "from sklearn.metrics import auc, roc_curve, f1_score, make_scorer\n",
    "from sklearn.model_selection import GridSearchCV,  cross_val_score, KFold\n",
    "\n",
    "def get_train_data():\n",
    "    from pymongo import MongoClient\n",
    "    import pandas as pd\n",
    "\n",
    "    connection = MongoClient('ds149279.mlab.com', 49279)\n",
    "    db = connection['data602final']\n",
    "    db.authenticate('me', 'mypass')\n",
    "    \n",
    "    df = pd.DataFrame([item for item in db.btc_options.find({})])\n",
    "    sds = pd.DataFrame([item for item in db.sds.find({})])\n",
    "    return df, sds\n",
    "df, sds = get_train_data()"
   ]
  },
  {
   "cell_type": "markdown",
   "metadata": {},
   "source": [
    "# Data Munging"
   ]
  },
  {
   "cell_type": "code",
   "execution_count": null,
   "metadata": {},
   "outputs": [],
   "source": []
  },
  {
   "cell_type": "code",
   "execution_count": 5,
   "metadata": {},
   "outputs": [],
   "source": [
    "def strike_dist(df):\n",
    "    if df.option_type == 'C':\n",
    "        return (df.indexPrice - df.strike)/df.strike\n",
    "    else:\n",
    "        return (df.strike - df.indexPrice)/df.strike\n",
    "    \n",
    "def black_scholes(df, option_type):\n",
    "    from scipy.stats import norm\n",
    "    import numpy as np\n",
    "    \n",
    "    current = df.indexPrice.values\n",
    "    rf = df['rf'].values\n",
    "    t = (df.expiration_date.values - df.timeStamp.values).astype('timedelta64[s]').astype(float)/(365*86400)\n",
    "    top_d1 = np.log(current/df.strike.values) + (rf + ((df.sd.values)**2)/2)*t\n",
    "    bottom_d1 = df.sd.values*np.sqrt(t)\n",
    "    d1 = top_d1/bottom_d1\n",
    "\n",
    "    d2 = d1 - df.sd.values*np.sqrt(t)\n",
    "    if option_type == 'C':\n",
    "        return current*norm.cdf(d1) - df.strike.values*np.exp(-rf*t)*norm.cdf(d2)\n",
    "    else:\n",
    "        return df.strike.values*np.exp(-rf*t)*norm.cdf(-d2) - current*norm.cdf(-d1)"
   ]
  },
  {
   "cell_type": "code",
   "execution_count": null,
   "metadata": {},
   "outputs": [],
   "source": []
  },
  {
   "cell_type": "code",
   "execution_count": 6,
   "metadata": {},
   "outputs": [
    {
     "name": "stderr",
     "output_type": "stream",
     "text": [
      "C:\\Users\\pgood\\Anaconda3\\lib\\site-packages\\pandas\\core\\indexing.py:357: SettingWithCopyWarning: \n",
      "A value is trying to be set on a copy of a slice from a DataFrame.\n",
      "Try using .loc[row_indexer,col_indexer] = value instead\n",
      "\n",
      "See the caveats in the documentation: http://pandas.pydata.org/pandas-docs/stable/indexing.html#indexing-view-versus-copy\n",
      "  self.obj[key] = _infer_fill_value(value)\n",
      "C:\\Users\\pgood\\Anaconda3\\lib\\site-packages\\pandas\\core\\indexing.py:537: SettingWithCopyWarning: \n",
      "A value is trying to be set on a copy of a slice from a DataFrame.\n",
      "Try using .loc[row_indexer,col_indexer] = value instead\n",
      "\n",
      "See the caveats in the documentation: http://pandas.pydata.org/pandas-docs/stable/indexing.html#indexing-view-versus-copy\n",
      "  self.obj[item] = s\n"
     ]
    }
   ],
   "source": [
    "def prep_data(sds, df):\n",
    "    import pandas as pd\n",
    "    from datetime import datetime, timedelta\n",
    "    from quandl import get\n",
    "\n",
    "    \n",
    "    \n",
    "    get_date = lambda x: datetime.strptime(x, '%d%b%y')\n",
    "    \n",
    "    get_cols = lambda x: pd.Series([item for item in x.split('-')])\n",
    "    cols = df['instrument'].apply(get_cols)\n",
    "    cols.columns = ['uderlying', 'expiration_date', 'strike', 'option_type']\n",
    "    df = pd.concat([df, cols], axis = 1)\n",
    "    df.loc[:, 'expiration_date'] = df['expiration_date'].map(get_date)\n",
    "    add_time = lambda x: timedelta(days = 1) - timedelta(seconds = 1) + x #make exp date end of day\n",
    "    df['expiration_date'] = df['expiration_date'].map(add_time)\n",
    "    \n",
    "    df = df.dropna()\n",
    "    df['strike'] = df['strike'].map(int)\n",
    "    df['timeStamp'] = df['timeStamp'].map(lambda x: datetime.fromtimestamp(x/1000))\n",
    "    df['time_left'] = (df['expiration_date'] - \n",
    "      df['timeStamp']).values.astype('timedelta64[s]').astype(float)/(365*86400)\n",
    "    df['date'] = df['timeStamp'].map(lambda x: x.date())\n",
    "    sds['date'] = sds['date'].map(lambda x: x.date())\n",
    "    rf = get('FRED/DTB6', start_date = '2016-01-01')/100\n",
    "    rf.loc[:, 'date'] = rf.index.values\n",
    "    rf['date'] = rf['date'].map(lambda x: x.date())\n",
    "    rf.rename(columns = {'Value': 'rf'}, inplace = True)\n",
    "    \n",
    "    \n",
    "    df = pd.merge(df, sds, on = ['date'])\n",
    "    df = pd.merge(df, rf, on = ['date'])\n",
    "    \n",
    "    \n",
    "    calls = df.loc[df.option_type == 'C']\n",
    "    puts = df.loc[df.option_type == 'P']\n",
    "    \n",
    "        \n",
    "    call_prices = black_scholes(calls, 'C')\n",
    "    put_prices = black_scholes(puts, 'P')\n",
    "    calls.loc[:, 'bs_price'] = call_prices\n",
    "    puts.loc[:, 'bs_price'] = put_prices\n",
    "    \n",
    "    df2 = pd.concat([calls, puts], axis = 0)\n",
    "    \n",
    "    \n",
    "        \n",
    "    df2['strike_dist'] = df2.apply(strike_dist, axis = 1)\n",
    "    \n",
    "    df2['price'] = df2.apply(lambda x: x.price * x.indexPrice, axis = 1)#option price converted to USD\n",
    "    df2['price_delta'] = df2.apply(lambda x: \n",
    "        min(max((x.bs_price - x.price)/x.price, -2), 2), axis = 1)#difference between option price and\n",
    "    #price predicted by BS formula\n",
    "    \n",
    "    df2.sort_values(['instrument', 'tradeSeq'], inplace = True)\n",
    "    grouped = df2.groupby(['instrument'])['quantity'].cumsum()\n",
    "    df2.loc[:, 'cum_volume'] = grouped\n",
    "    df2.sort_values(['instrument', 'tradeSeq'], ascending  = False, inplace = True)\n",
    "    \n",
    "    #this operation should be a function for style\n",
    "    #get the price 2 trades in the future.  We can play around with this number\n",
    "    df2.loc[:,'fut_option_price'] = df2.groupby(['instrument']).price.shift(2)\n",
    "    df2.loc[:,'fut_und_price'] = df2.groupby(['instrument']).indexPrice.shift(2)\n",
    "    df2.loc[:,'fut_bs_price'] = df2.groupby(['instrument']).bs_price.shift(2)\n",
    "    df2['price_change'] = (df2.fut_option_price - df2.price)/df2.price\n",
    "    df2['index_change'] = df2.fut_und_price - df2.indexPrice\n",
    "    df2['net_change'] = df2.apply(\n",
    "            lambda x: min(max(x.price_change - (x.fut_bs_price - x.bs_price)/x.bs_price, -2), 2), axis = 1)\n",
    "    \n",
    "    #I'm still not 100% sure net_change is the value we want to predict.  Here's my thinking:\n",
    "    #The idea is that we want measure of price change\n",
    "    #that is independent of price changes in the underlying.  With net change, if the underlying didn't change,\n",
    "    #future_bs_price - bs_price should be zero, so we're left with the price change.  For a call, if the underlying\n",
    "    #goes up, the fut_bs_price - bs_price will be positive, and should offset the part of the price change due to\n",
    "    #a change in price in the underlying.  What you're left with is any change in price due to the option valuation\n",
    "    #getting closer to a fair value\n",
    "    \n",
    "    opt_map = {'C': 1, 'P': 2}\n",
    "    \n",
    "    \n",
    "    df2['option_type'] = df2['option_type'].map(lambda x: opt_map[x])\n",
    "    X = df2.loc[df2['fut_option_price'].notna(), ['cum_volume', 'strike_dist', 'price_delta', 'time_left', 'option_type']]\n",
    "    \n",
    "    Y = df2.loc[df2['fut_option_price'].notna(), ['net_change']]\n",
    "    return (X, Y, df2)\n",
    "X, Y, df2 = prep_data(sds, df)"
   ]
  },
  {
   "cell_type": "code",
   "execution_count": 7,
   "metadata": {},
   "outputs": [],
   "source": [
    "actuals = df2.loc[df2['fut_option_price'].notna(), ['price_change']].values\n",
    "groups = df2.loc[df2['fut_option_price'].notna(), ['instrument']]\n"
   ]
  },
  {
   "cell_type": "code",
   "execution_count": null,
   "metadata": {},
   "outputs": [],
   "source": [
    "param_grid = {'min_samples_leaf': [2, 5, 10],\n",
    "          'min_samples_split': [2, 5, 10],\n",
    "          'max_depth' : [2, 3],\n",
    "          'subsample': [.8, 1],\n",
    "          'max_features' : [.8, 1]\n",
    "          }\n",
    "\n",
    "y_fit = (Y.values > 0)*1\n",
    "gb = GridSearchCV(GradientBoostingClassifier(n_estimators = 700), param_grid, make_scorer(f1_score),\n",
    "                  cv = rs)\n",
    "gb.fit(X, y_fit.ravel())\n",
    "print(\"Best estimator found by grid search:{}\".format(gb.best_estimator_))"
   ]
  },
  {
   "cell_type": "code",
   "execution_count": 11,
   "metadata": {},
   "outputs": [
    {
     "data": {
      "image/png": "[encoded data removed]",
      "text/plain": [
       "<matplotlib.figure.Figure at 0x20b1b2d7780>"
      ]
     },
     "metadata": {},
     "output_type": "display_data"
    },
    {
     "name": "stderr",
     "output_type": "stream",
     "text": [
      "C:\\Users\\pgood\\Anaconda3\\lib\\site-packages\\ipykernel_launcher.py:87: RuntimeWarning: Mean of empty slice.\n",
      "C:\\Users\\pgood\\Anaconda3\\lib\\site-packages\\numpy\\core\\_methods.py:80: RuntimeWarning: invalid value encountered in double_scalars\n",
      "  ret = ret.dtype.type(ret / rcount)\n"
     ]
    }
   ],
   "source": [
    "rs  = KFold(n_splits=10, shuffle=True)\n",
    "splits = rs.split(X, Y, groups = groups)\n",
    "residuals = []\n",
    "probs_regr = []\n",
    "scores_regr = []\n",
    "scores_logistic = []\n",
    "all_probs = []\n",
    "probs_log_main = []\n",
    "scores_log_main = []\n",
    "increase_rf = []\n",
    "increase_log = []\n",
    "increase_gb = []\n",
    "scores_gb = []\n",
    "probs_gb = []\n",
    "aucs_gb = np.zeros(10)\n",
    "aucs_st = np.zeros(10)\n",
    "aucs_rf = np.zeros(10)\n",
    "fprs_gb, tprs_gb, fprs_rf, tprs_rf, fprs_log, tprs_log, fprs_st, tprs_st = [], [], [], [],[],[],[], []\n",
    "i = 0\n",
    "for train, test in splits:\n",
    "    x_train, y_train = X.iloc[train,:], Y.iloc[train,:]\n",
    "    x_test, y_test, actuals_test = X.iloc[test, :],  Y.iloc[test,:], actuals[test] \n",
    "\n",
    "    logistic_test = (y_test.values > 0)*1\n",
    "    logistic_train = (y_train.values > 0)*1\n",
    "\n",
    "    gb = GradientBoostingClassifier(min_samples_leaf= 5,\n",
    "          min_samples_split= 10,\n",
    "          max_depth = 3,\n",
    "          subsample = .8,\n",
    "          n_estimators = 1000)    \n",
    "    gb.fit(x_train, logistic_train.ravel())\n",
    "    scores_gb.append(gb.score(x_test, logistic_test))\n",
    "    probs3 = gb.predict_proba(x_test)\n",
    "    probs_gb.append(probs3)\n",
    "    increase_gb.append(actuals_test[probs3[:,1] > .65].mean())\n",
    "    fpr_gb, tpr_gb, _ = roc_curve(logistic_test, probs3[:,1].ravel(), 1)\n",
    "    fprs_gb.append(fpr_gb)\n",
    "    tprs_gb.append(tpr_gb)\n",
    "    #rf regression (gives continuous predictions)\n",
    "    regr = RandomForestClassifier(min_samples_leaf = 10, n_estimators = 100, min_samples_split = 10)\n",
    "    regr.fit(x_train, logistic_train.ravel())\n",
    "    scores_regr.append(regr.score(x_test, logistic_test))\n",
    "    probs2 = regr.predict_proba(x_test)\n",
    "    probs_regr.append(probs2)\n",
    "    increase_rf.append(actuals_test[probs2[:,1] > .65].mean())\n",
    "    fpr_rf, tpr_rf, _ = roc_curve(logistic_test, probs2[:,1].ravel(), 1)\n",
    "    fprs_rf.append(fpr_rf)\n",
    "    tprs_rf.append(tpr_rf)\n",
    "    #pred = regr.predict(x_test)\n",
    "    \n",
    "    \n",
    "    #logistic classifier on original data\n",
    "    log_regr = LogisticRegression()\n",
    "    log_regr.fit(x_train, logistic_train.ravel())\n",
    "    probs1 = log_regr.predict_proba(x_test)\n",
    "    probs_log_main.append(probs1)\n",
    "    scores_log_main.append(log_regr.score(x_test, logistic_test))\n",
    "    increase_log.append(actuals_test[probs1[:,1] > .6].mean())#find avg price change when classifier prob > .6\n",
    "    fpr_log, tpr_log, _ = roc_curve(logistic_test, probs1[:,1].ravel(), 1)    \n",
    "    fprs_log.append(fpr_log)\n",
    "    tprs_log.append(tpr_log)\n",
    "    \n",
    "    all_probs = np.array([probs2[:,1].ravel(), probs3[:,1].ravel()]).mean(axis = 0)\n",
    "    fpr_st, tpr_st, _ = roc_curve(logistic_test, all_probs.ravel(), 1)\n",
    "    fprs_st.append(fpr_st)\n",
    "    tprs_st.append(fpr_st)\n",
    "\n",
    "    aucs_rf[i] = auc(fpr_rf, tpr_rf)\n",
    "    aucs_gb[i] = auc(fpr_gb, tpr_gb)\n",
    "    aucs_st[i] = auc(fpr_st, tpr_st)\n",
    "    i += 1\n",
    "\n",
    "\n",
    "plt.plot([0, 1], [0, 1], 'k--')\n",
    "plt.plot(fpr_rf, tpr_rf, label='RF')\n",
    "plt.plot(fpr_log, tpr_log, label='Logistic')\n",
    "plt.plot(fpr_gb, tpr_gb, label='GB')\n",
    "plt.plot(fpr_st, tpr_st, label='Stack')\n",
    "plt.xlabel('False positive rate')\n",
    "plt.ylabel('True positive rate')\n",
    "plt.title('ROC curve')\n",
    "plt.legend(loc='best')\n",
    "plt.show()\n",
    "\n",
    "\n",
    "mse = np.array(residuals).mean()\n",
    "\n",
    "#df, sds = get_train_data()\n",
    "#X, Y, df2 = prep_data(sds,df)\n",
    "#auc_rf, aug_gb = test_model(df2, X, Y)"
   ]
  },
  {
   "cell_type": "code",
   "execution_count": 12,
   "metadata": {},
   "outputs": [],
   "source": [
    "def impl_vol_func(vol, df):\n",
    "    from scipy.stats import norm\n",
    "    \n",
    "    rf = df['rf']\n",
    "    t = df['time_left']\n",
    "    top_d1 = np.log( df.indexPrice/df.strike) + (rf + ((vol)**2)/2)*t\n",
    "    bottom_d1 = vol * np.sqrt(t)\n",
    "    d1 = top_d1/bottom_d1\n",
    "\n",
    "    d2 = d1 - vol * np.sqrt(t)\n",
    "    if df.option_type == 'C':\n",
    "        return  df.price - (df.indexPrice*norm.cdf(d1) - df.strike * np.exp(-rf*t) * norm.cdf(d2))\n",
    "    else:\n",
    "        return df.price - (df.strike * np.exp(-rf * t) * norm.cdf(-d2) - df.indexPrice * norm.cdf(-d1))"
   ]
  },
  {
   "cell_type": "code",
   "execution_count": 18,
   "metadata": {},
   "outputs": [],
   "source": [
    "def bs_price(vol, df):\n",
    "    from scipy.stats import norm\n",
    "    \n",
    "    rf = df['rf']\n",
    "    t = df['time_left']\n",
    "    top_d1 = np.log( df.indexPrice/df.strike) + (rf + ((vol)**2)/2)*t\n",
    "    bottom_d1 = vol * np.sqrt(t)\n",
    "    d1 = top_d1/bottom_d1\n",
    "\n",
    "    d2 = d1 - vol * np.sqrt(t)\n",
    "    if df.option_type == 1:\n",
    "        return  df.indexPrice*norm.cdf(d1) - df.strike * np.exp(-rf*t) * norm.cdf(d2)\n",
    "    else:\n",
    "        return df.strike * np.exp(-rf * t) * norm.cdf(-d2) - df.indexPrice * norm.cdf(-d1)"
   ]
  },
  {
   "cell_type": "code",
   "execution_count": 14,
   "metadata": {},
   "outputs": [],
   "source": [
    "def vega(vol, df):\n",
    "    from scipy.stats import norm\n",
    "    \n",
    "    rf = df['rf']\n",
    "    t = df['time_left']\n",
    "\n",
    "    top_d1 = np.log(df.indexPrice/df.strike) + (rf + ((vol)**2)/2)*t\n",
    "    bottom_d1 = vol * np.sqrt(t)\n",
    "    d1 = top_d1/bottom_d1\n",
    "    return df.indexPrice * np.sqrt(t) * norm.cdf(d1, 0.0, 1.0)"
   ]
  },
  {
   "cell_type": "code",
   "execution_count": 15,
   "metadata": {},
   "outputs": [],
   "source": [
    "def get_implied_vol(df):\n",
    "    from scipy.optimize import fsolve\n",
    "    \n",
    "    impl_vol = fsolve(impl_vol_func, df['sd'], args = (df,), fprime = vega)\n",
    "    \n",
    "    return impl_vol[0]"
   ]
  },
  {
   "cell_type": "code",
   "execution_count": 23,
   "metadata": {},
   "outputs": [],
   "source": [
    "from datetime import datetime\n",
    "only_calls = df2.loc[df2['timeStamp'] >= datetime(2018,1,1)]"
   ]
  },
  {
   "cell_type": "code",
   "execution_count": 24,
   "metadata": {},
   "outputs": [
    {
     "name": "stderr",
     "output_type": "stream",
     "text": [
      "C:\\Users\\pgood\\Anaconda3\\lib\\site-packages\\scipy\\optimize\\minpack.py:161: RuntimeWarning: The iteration is not making good progress, as measured by the \n",
      "  improvement from the last ten iterations.\n",
      "  warnings.warn(msg, RuntimeWarning)\n",
      "C:\\Users\\pgood\\Anaconda3\\lib\\site-packages\\ipykernel_launcher.py:1: SettingWithCopyWarning: \n",
      "A value is trying to be set on a copy of a slice from a DataFrame.\n",
      "Try using .loc[row_indexer,col_indexer] = value instead\n",
      "\n",
      "See the caveats in the documentation: http://pandas.pydata.org/pandas-docs/stable/indexing.html#indexing-view-versus-copy\n",
      "  \"\"\"Entry point for launching an IPython kernel.\n"
     ]
    }
   ],
   "source": [
    "only_calls['implied_vol'] = only_calls.apply(get_implied_vol, axis = 1)"
   ]
  },
  {
   "cell_type": "code",
   "execution_count": 39,
   "metadata": {},
   "outputs": [
    {
     "data": {
      "image/png": "[encoded data removed]",
      "text/plain": [
       "<matplotlib.figure.Figure at 0x20b1b1655f8>"
      ]
     },
     "metadata": {},
     "output_type": "display_data"
    }
   ],
   "source": [
    "only_calls = only_calls.loc[(only_calls['implied_vol'] > .5) & (only_calls['implied_vol'] < 3)& (only_calls['option_type'] == 1)]\n",
    "plt.scatter(only_calls['strike_dist'], only_calls['implied_vol'])\n",
    "plt.show()"
   ]
  },
  {
   "cell_type": "code",
   "execution_count": 38,
   "metadata": {},
   "outputs": [
    {
     "data": {
      "image/png": "[encoded data removed]",
      "text/plain": [
       "<matplotlib.figure.Figure at 0x20b1b185fd0>"
      ]
     },
     "metadata": {},
     "output_type": "display_data"
    }
   ],
   "source": [
    "only_puts = only_calls.loc[(only_calls['implied_vol'] > .5) & (only_calls['implied_vol'] < 3)& (only_calls['option_type'] == 2)]\n",
    "plt.scatter(only_calls['strike_dist'], only_calls['implied_vol'])\n",
    "plt.show()"
   ]
  },
  {
   "cell_type": "code",
   "execution_count": 36,
   "metadata": {},
   "outputs": [
    {
     "data": {
      "text/plain": [
       "{'cum_volume': 0.15844856751071437,\n",
       " 'option_type': 0.010899573153382887,\n",
       " 'price_delta': 0.23746578479453165,\n",
       " 'strike_dist': 0.2659652624286884,\n",
       " 'time_left': 0.3272208121126836}"
      ]
     },
     "execution_count": 36,
     "metadata": {},
     "output_type": "execute_result"
    }
   ],
   "source": [
    "dict(zip(['cum_volume', 'strike_dist', 'price_delta', 'time_left', 'option_type'], gb.feature_importances_))"
   ]
  },
  {
   "cell_type": "code",
   "execution_count": 37,
   "metadata": {},
   "outputs": [
    {
     "data": {
      "text/plain": [
       "{'cum_volume': 0.20323676995921516,\n",
       " 'option_type': 0.015203363578067706,\n",
       " 'price_delta': 0.277434478161629,\n",
       " 'strike_dist': 0.2494446597618289,\n",
       " 'time_left': 0.25468072853925927}"
      ]
     },
     "execution_count": 37,
     "metadata": {},
     "output_type": "execute_result"
    }
   ],
   "source": [
    "dict(zip(['cum_volume', 'strike_dist', 'price_delta', 'time_left', 'option_type'], regr.feature_importances_))"
   ]
  },
  {
   "cell_type": "code",
   "execution_count": null,
   "metadata": {},
   "outputs": [],
   "source": []
  }
 ],
 "metadata": {
  "kernelspec": {
   "display_name": "Python 3",
   "language": "python",
   "name": "python3"
  },
  "language_info": {
   "codemirror_mode": {
    "name": "ipython",
    "version": 3
   },
   "file_extension": ".py",
   "mimetype": "text/x-python",
   "name": "python",
   "nbconvert_exporter": "python",
   "pygments_lexer": "ipython3",
   "version": "3.6.4"
  }
 },
 "nbformat": 4,
 "nbformat_minor": 2
}
